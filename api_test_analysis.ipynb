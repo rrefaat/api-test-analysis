{
 "cells": [
  {
   "cell_type": "markdown",
   "id": "225a97cf",
   "metadata": {},
   "source": [
    "# 📊 API Test Results Analysis\n",
    "\n",
    "This notebook analyzes test results from an API testing framework using Pandas and Seaborn."
   ]
  },
  {
   "cell_type": "code",
   "execution_count": 1,
   "id": "df953c73",
   "metadata": {},
   "outputs": [
    {
     "data": {
      "text/html": [
       "<div>\n",
       "<style scoped>\n",
       "    .dataframe tbody tr th:only-of-type {\n",
       "        vertical-align: middle;\n",
       "    }\n",
       "\n",
       "    .dataframe tbody tr th {\n",
       "        vertical-align: top;\n",
       "    }\n",
       "\n",
       "    .dataframe thead th {\n",
       "        text-align: right;\n",
       "    }\n",
       "</style>\n",
       "<table border=\"1\" class=\"dataframe\">\n",
       "  <thead>\n",
       "    <tr style=\"text-align: right;\">\n",
       "      <th></th>\n",
       "      <th>test_name</th>\n",
       "      <th>status</th>\n",
       "      <th>duration</th>\n",
       "      <th>error_message</th>\n",
       "      <th>timestamp</th>\n",
       "    </tr>\n",
       "  </thead>\n",
       "  <tbody>\n",
       "    <tr>\n",
       "      <th>0</th>\n",
       "      <td>test_api_3</td>\n",
       "      <td>Pass</td>\n",
       "      <td>1.45</td>\n",
       "      <td>NaN</td>\n",
       "      <td>4/3/2025 6:42</td>\n",
       "    </tr>\n",
       "    <tr>\n",
       "      <th>1</th>\n",
       "      <td>test_api_3</td>\n",
       "      <td>Pass</td>\n",
       "      <td>3.88</td>\n",
       "      <td>NaN</td>\n",
       "      <td>4/5/2025 12:23</td>\n",
       "    </tr>\n",
       "    <tr>\n",
       "      <th>2</th>\n",
       "      <td>test_api_18</td>\n",
       "      <td>Pass</td>\n",
       "      <td>2.91</td>\n",
       "      <td>NaN</td>\n",
       "      <td>4/3/2025 2:27</td>\n",
       "    </tr>\n",
       "    <tr>\n",
       "      <th>3</th>\n",
       "      <td>test_api_7</td>\n",
       "      <td>Fail</td>\n",
       "      <td>4.68</td>\n",
       "      <td>ConnectionRefused</td>\n",
       "      <td>4/2/2025 3:25</td>\n",
       "    </tr>\n",
       "    <tr>\n",
       "      <th>4</th>\n",
       "      <td>test_api_13</td>\n",
       "      <td>Pass</td>\n",
       "      <td>2.05</td>\n",
       "      <td>NaN</td>\n",
       "      <td>4/6/2025 6:55</td>\n",
       "    </tr>\n",
       "  </tbody>\n",
       "</table>\n",
       "</div>"
      ],
      "text/plain": [
       "     test_name status  duration      error_message       timestamp\n",
       "0   test_api_3   Pass      1.45                NaN   4/3/2025 6:42\n",
       "1   test_api_3   Pass      3.88                NaN  4/5/2025 12:23\n",
       "2  test_api_18   Pass      2.91                NaN   4/3/2025 2:27\n",
       "3   test_api_7   Fail      4.68  ConnectionRefused   4/2/2025 3:25\n",
       "4  test_api_13   Pass      2.05                NaN   4/6/2025 6:55"
      ]
     },
     "execution_count": 1,
     "metadata": {},
     "output_type": "execute_result"
    }
   ],
   "source": [
    "import pandas as pd\n",
    "import matplotlib.pyplot as plt\n",
    "import seaborn as sns\n",
    "\n",
    "# Load the test results CSV file\n",
    "df = pd.read_csv('../data/test_results.csv')\n",
    "df.head()\n"
   ]
  },
  {
   "cell_type": "markdown",
   "id": "51c8b174",
   "metadata": {},
   "source": [
    "## 1️⃣ Summary Statistics"
   ]
  },
  {
   "cell_type": "code",
   "execution_count": 2,
   "id": "0fb8dd98",
   "metadata": {},
   "outputs": [
    {
     "name": "stdout",
     "output_type": "stream",
     "text": [
      "Total tests: 100\n",
      "status\n",
      "Pass    83\n",
      "Fail    17\n",
      "Name: count, dtype: int64\n"
     ]
    },
    {
     "data": {
      "text/html": [
       "<div>\n",
       "<style scoped>\n",
       "    .dataframe tbody tr th:only-of-type {\n",
       "        vertical-align: middle;\n",
       "    }\n",
       "\n",
       "    .dataframe tbody tr th {\n",
       "        vertical-align: top;\n",
       "    }\n",
       "\n",
       "    .dataframe thead th {\n",
       "        text-align: right;\n",
       "    }\n",
       "</style>\n",
       "<table border=\"1\" class=\"dataframe\">\n",
       "  <thead>\n",
       "    <tr style=\"text-align: right;\">\n",
       "      <th></th>\n",
       "      <th>duration</th>\n",
       "    </tr>\n",
       "  </thead>\n",
       "  <tbody>\n",
       "    <tr>\n",
       "      <th>count</th>\n",
       "      <td>100.000000</td>\n",
       "    </tr>\n",
       "    <tr>\n",
       "      <th>mean</th>\n",
       "      <td>2.898800</td>\n",
       "    </tr>\n",
       "    <tr>\n",
       "      <th>std</th>\n",
       "      <td>1.216325</td>\n",
       "    </tr>\n",
       "    <tr>\n",
       "      <th>min</th>\n",
       "      <td>0.610000</td>\n",
       "    </tr>\n",
       "    <tr>\n",
       "      <th>25%</th>\n",
       "      <td>1.962500</td>\n",
       "    </tr>\n",
       "    <tr>\n",
       "      <th>50%</th>\n",
       "      <td>2.925000</td>\n",
       "    </tr>\n",
       "    <tr>\n",
       "      <th>75%</th>\n",
       "      <td>3.925000</td>\n",
       "    </tr>\n",
       "    <tr>\n",
       "      <th>max</th>\n",
       "      <td>4.990000</td>\n",
       "    </tr>\n",
       "  </tbody>\n",
       "</table>\n",
       "</div>"
      ],
      "text/plain": [
       "         duration\n",
       "count  100.000000\n",
       "mean     2.898800\n",
       "std      1.216325\n",
       "min      0.610000\n",
       "25%      1.962500\n",
       "50%      2.925000\n",
       "75%      3.925000\n",
       "max      4.990000"
      ]
     },
     "execution_count": 2,
     "metadata": {},
     "output_type": "execute_result"
    }
   ],
   "source": [
    "# Summary of test results\n",
    "print(\"Total tests:\", len(df))\n",
    "print(df['status'].value_counts())\n",
    "df.describe()\n"
   ]
  },
  {
   "cell_type": "markdown",
   "id": "62efc592",
   "metadata": {},
   "source": [
    "## 2️⃣ Pass vs Fail Distribution"
   ]
  },
  {
   "cell_type": "code",
   "execution_count": 3,
   "id": "cac1ccaf",
   "metadata": {},
   "outputs": [
    {
     "name": "stderr",
     "output_type": "stream",
     "text": [
      "C:\\Users\\rrefaat\\AppData\\Local\\Temp\\ipykernel_20532\\3438675155.py:1: FutureWarning: \n",
      "\n",
      "Passing `palette` without assigning `hue` is deprecated and will be removed in v0.14.0. Assign the `x` variable to `hue` and set `legend=False` for the same effect.\n",
      "\n",
      "  sns.countplot(data=df, x='status', palette='coolwarm')\n"
     ]
    },
    {
     "data": {
      "image/png": "[encoded data removed]",
      "text/plain": [
       "<Figure size 640x480 with 1 Axes>"
      ]
     },
     "metadata": {},
     "output_type": "display_data"
    }
   ],
   "source": [
    "sns.countplot(data=df, x='status', palette='coolwarm')\n",
    "plt.title(\"Pass vs Fail Distribution\")\n",
    "plt.xlabel(\"Test Status\")\n",
    "plt.ylabel(\"Count\")\n",
    "plt.show()\n"
   ]
  },
  {
   "cell_type": "markdown",
   "id": "4ffb83c9",
   "metadata": {},
   "source": [
    "## 3️⃣ Longest Running Tests"
   ]
  },
  {
   "cell_type": "code",
   "execution_count": 4,
   "id": "847e6337",
   "metadata": {},
   "outputs": [
    {
     "data": {
      "text/html": [
       "<div>\n",
       "<style scoped>\n",
       "    .dataframe tbody tr th:only-of-type {\n",
       "        vertical-align: middle;\n",
       "    }\n",
       "\n",
       "    .dataframe tbody tr th {\n",
       "        vertical-align: top;\n",
       "    }\n",
       "\n",
       "    .dataframe thead th {\n",
       "        text-align: right;\n",
       "    }\n",
       "</style>\n",
       "<table border=\"1\" class=\"dataframe\">\n",
       "  <thead>\n",
       "    <tr style=\"text-align: right;\">\n",
       "      <th></th>\n",
       "      <th>test_name</th>\n",
       "      <th>status</th>\n",
       "      <th>duration</th>\n",
       "      <th>error_message</th>\n",
       "      <th>timestamp</th>\n",
       "    </tr>\n",
       "  </thead>\n",
       "  <tbody>\n",
       "    <tr>\n",
       "      <th>69</th>\n",
       "      <td>test_api_3</td>\n",
       "      <td>Fail</td>\n",
       "      <td>4.99</td>\n",
       "      <td>ConnectionRefused</td>\n",
       "      <td>4/1/2025 21:12</td>\n",
       "    </tr>\n",
       "    <tr>\n",
       "      <th>25</th>\n",
       "      <td>test_api_7</td>\n",
       "      <td>Pass</td>\n",
       "      <td>4.81</td>\n",
       "      <td>NaN</td>\n",
       "      <td>4/5/2025 21:09</td>\n",
       "    </tr>\n",
       "    <tr>\n",
       "      <th>60</th>\n",
       "      <td>test_api_2</td>\n",
       "      <td>Pass</td>\n",
       "      <td>4.78</td>\n",
       "      <td>NaN</td>\n",
       "      <td>4/6/2025 8:35</td>\n",
       "    </tr>\n",
       "    <tr>\n",
       "      <th>39</th>\n",
       "      <td>test_api_2</td>\n",
       "      <td>Pass</td>\n",
       "      <td>4.75</td>\n",
       "      <td>NaN</td>\n",
       "      <td>4/1/2025 5:31</td>\n",
       "    </tr>\n",
       "    <tr>\n",
       "      <th>66</th>\n",
       "      <td>test_api_7</td>\n",
       "      <td>Pass</td>\n",
       "      <td>4.73</td>\n",
       "      <td>NaN</td>\n",
       "      <td>4/1/2025 22:35</td>\n",
       "    </tr>\n",
       "    <tr>\n",
       "      <th>3</th>\n",
       "      <td>test_api_7</td>\n",
       "      <td>Fail</td>\n",
       "      <td>4.68</td>\n",
       "      <td>ConnectionRefused</td>\n",
       "      <td>4/2/2025 3:25</td>\n",
       "    </tr>\n",
       "    <tr>\n",
       "      <th>56</th>\n",
       "      <td>test_api_14</td>\n",
       "      <td>Pass</td>\n",
       "      <td>4.66</td>\n",
       "      <td>NaN</td>\n",
       "      <td>4/5/2025 16:38</td>\n",
       "    </tr>\n",
       "    <tr>\n",
       "      <th>70</th>\n",
       "      <td>test_api_18</td>\n",
       "      <td>Pass</td>\n",
       "      <td>4.64</td>\n",
       "      <td>NaN</td>\n",
       "      <td>4/6/2025 15:44</td>\n",
       "    </tr>\n",
       "    <tr>\n",
       "      <th>73</th>\n",
       "      <td>test_api_5</td>\n",
       "      <td>Pass</td>\n",
       "      <td>4.60</td>\n",
       "      <td>NaN</td>\n",
       "      <td>4/6/2025 3:03</td>\n",
       "    </tr>\n",
       "    <tr>\n",
       "      <th>68</th>\n",
       "      <td>test_api_6</td>\n",
       "      <td>Pass</td>\n",
       "      <td>4.50</td>\n",
       "      <td>NaN</td>\n",
       "      <td>4/6/2025 10:36</td>\n",
       "    </tr>\n",
       "  </tbody>\n",
       "</table>\n",
       "</div>"
      ],
      "text/plain": [
       "      test_name status  duration      error_message       timestamp\n",
       "69   test_api_3   Fail      4.99  ConnectionRefused  4/1/2025 21:12\n",
       "25   test_api_7   Pass      4.81                NaN  4/5/2025 21:09\n",
       "60   test_api_2   Pass      4.78                NaN   4/6/2025 8:35\n",
       "39   test_api_2   Pass      4.75                NaN   4/1/2025 5:31\n",
       "66   test_api_7   Pass      4.73                NaN  4/1/2025 22:35\n",
       "3    test_api_7   Fail      4.68  ConnectionRefused   4/2/2025 3:25\n",
       "56  test_api_14   Pass      4.66                NaN  4/5/2025 16:38\n",
       "70  test_api_18   Pass      4.64                NaN  4/6/2025 15:44\n",
       "73   test_api_5   Pass      4.60                NaN   4/6/2025 3:03\n",
       "68   test_api_6   Pass      4.50                NaN  4/6/2025 10:36"
      ]
     },
     "execution_count": 4,
     "metadata": {},
     "output_type": "execute_result"
    }
   ],
   "source": [
    "df.sort_values(by='duration', ascending=False).head(10)\n"
   ]
  },
  {
   "cell_type": "markdown",
   "id": "78cf4141",
   "metadata": {},
   "source": [
    "## 4️⃣ Most Frequent Failing Tests"
   ]
  },
  {
   "cell_type": "code",
   "execution_count": 5,
   "id": "44ff8549",
   "metadata": {},
   "outputs": [
    {
     "data": {
      "text/plain": [
       "test_name\n",
       "test_api_17    4\n",
       "test_api_3     3\n",
       "test_api_14    3\n",
       "test_api_10    2\n",
       "test_api_2     2\n",
       "test_api_7     1\n",
       "test_api_4     1\n",
       "test_api_8     1\n",
       "Name: count, dtype: int64"
      ]
     },
     "execution_count": 5,
     "metadata": {},
     "output_type": "execute_result"
    }
   ],
   "source": [
    "df_failures = df[df['status'] == 'Fail']\n",
    "df_failures['test_name'].value_counts().head(10)\n"
   ]
  },
  {
   "cell_type": "markdown",
   "id": "a7a12cc9",
   "metadata": {},
   "source": [
    "## ✅ Insights and Next Steps\n",
    "- Identify flaky tests\n",
    "- Automate rerun for long-duration tests\n",
    "- Monitor frequent failure causes"
   ]
  }
 ],
 "metadata": {
  "kernelspec": {
   "display_name": "venv",
   "language": "python",
   "name": "python3"
  },
  "language_info": {
   "codemirror_mode": {
    "name": "ipython",
    "version": 3
   },
   "file_extension": ".py",
   "mimetype": "text/x-python",
   "name": "python",
   "nbconvert_exporter": "python",
   "pygments_lexer": "ipython3",
   "version": "3.12.3"
  }
 },
 "nbformat": 4,
 "nbformat_minor": 5
}
